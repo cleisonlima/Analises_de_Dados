{
 "cells": [
  {
   "cell_type": "code",
   "execution_count": 5,
   "id": "70a6c289",
   "metadata": {},
   "outputs": [
    {
     "name": "stdout",
     "output_type": "stream",
     "text": [
      "\n",
      "“Peguei um ônibus com uma mulher alta, negra, vestindo um uniforme de vôlei. Fiquei totalmente apaixonado. A gente desceu no mesmo ponto, ela foi andando em direção à quadra e eu pensei em quando iria encontrá-la de novo. Resolvi procurar no Orkut, em uma comunidade de vôlei da cidade. Encontrei alguém com as suas características — para mim, era ela — e vi que em seu perfil tinha um e-mail. Uma semana depois, mandei uma mensagem me declarando. Expliquei que a vi no ônibus, que fiquei encantado. Recebi uma resposta de que talvez eu estivesse confundindo as pessoas. Devolvi com um “Legal. Mas quem é você?”. Ela havia jogado vôlei durante um tempo e conseguiu identificar a mulher que eu tinha visto no ônibus, chegou a dizer que poderia apresentá-la a mim. Mas eu fiquei mais interessado nas respostas dela do que na imagem que me encantou. A gente foi conversando, deu match, o santo bateu. Estamos casados desde 2013.”\n",
      "\n",
      "\n"
     ]
    }
   ],
   "source": [
    "arquivo = open('historia_amor.txt', 'r')\n",
    "amor = arquivo.read()\n",
    "print(amor)\n",
    "arquivo.close()"
   ]
  },
  {
   "cell_type": "code",
   "execution_count": 8,
   "id": "08272e7f",
   "metadata": {},
   "outputs": [
    {
     "name": "stdout",
     "output_type": "stream",
     "text": [
      "\n",
      "“Peguei um ônibus com uma mulher alta, negra, vestindo um uniforme de vôlei. Fiquei totalmente apaixonado. A gente desceu no mesmo ponto, ela foi andando em direção à quadra e eu pensei em quando iria encontrá-la de novo. Resolvi procurar no Orkut, em uma comunidade de vôlei da cidade. Encontrei alguém com as suas características — para mim, era ela — e vi que em seu perfil tinha um e-mail. Uma semana depois, mandei uma mensagem me declarando. Expliquei que a vi no ônibus, que fiquei encantado. Recebi uma resposta de que talvez eu estivesse confundindo as pessoas. Devolvi com um “Legal. Mas quem é você?”. Ela havia jogado vôlei durante um tempo e conseguiu identificar a mulher que eu tinha visto no ônibus, chegou a dizer que poderia apresentá-la a mim. Mas eu fiquei mais interessado nas respostas dela do que na imagem que me encantou. A gente foi conversando, deu match, o santo bateu. Estamos casados desde 2013.”\n",
      "\n"
     ]
    },
    {
     "data": {
      "text/plain": [
       "<function TextIOWrapper.close()>"
      ]
     },
     "execution_count": 8,
     "metadata": {},
     "output_type": "execute_result"
    }
   ],
   "source": [
    "arquivo = open('historia_amor.txt', 'r')\n",
    "linha = arquivo.readline()\n",
    "while linha != '':\n",
    "    print(linha, end='')\n",
    "    linha = arquivo.readline()\n",
    "arquivo.close"
   ]
  },
  {
   "cell_type": "code",
   "execution_count": 9,
   "id": "2e1da435",
   "metadata": {},
   "outputs": [
    {
     "name": "stdout",
     "output_type": "stream",
     "text": [
      "\n",
      "“Peguei um ônibus com uma mulher alta, negra, vestindo um uniforme de vôlei. Fiquei totalmente apaixonado. A gente desceu no mesmo ponto, ela foi andando em direção à quadra e eu pensei em quando iria encontrá-la de novo. Resolvi procurar no Orkut, em uma comunidade de vôlei da cidade. Encontrei alguém com as suas características — para mim, era ela — e vi que em seu perfil tinha um e-mail. Uma semana depois, mandei uma mensagem me declarando. Expliquei que a vi no ônibus, que fiquei encantado. Recebi uma resposta de que talvez eu estivesse confundindo as pessoas. Devolvi com um “Legal. Mas quem é você?”. Ela havia jogado vôlei durante um tempo e conseguiu identificar a mulher que eu tinha visto no ônibus, chegou a dizer que poderia apresentá-la a mim. Mas eu fiquei mais interessado nas respostas dela do que na imagem que me encantou. A gente foi conversando, deu match, o santo bateu. Estamos casados desde 2013.”\n",
      "\n"
     ]
    }
   ],
   "source": [
    "arquivo = open('historia_amor.txt', 'r')\n",
    "for linha in arquivo:\n",
    "    print(linha, end='')\n",
    "arquivo.close()"
   ]
  },
  {
   "cell_type": "code",
   "execution_count": 13,
   "id": "fca04059",
   "metadata": {},
   "outputs": [
    {
     "name": "stdout",
     "output_type": "stream",
     "text": [
      "\n",
      "“Peguei um ônibus com uma mulher alta, negra, vestindo um uniforme de vôlei. Fiquei totalmente apaixonado. A gente desceu no mesmo ponto, ela foi andando em direção à quadra e eu pensei em quando iria encontrá-la de novo. Resolvi procurar no Orkut, em uma comunidade de vôlei da cidade. Encontrei alguém com as suas características — para mim, era ela — e vi que em seu perfil tinha um e-mail. Uma semana depois, mandei uma mensagem me declarando. Expliquei que a vi no ônibus, que fiquei encantado. Recebi uma resposta de que talvez eu estivesse confundindo as pessoas. Devolvi com um “Legal. Mas quem é você?”. Ela havia jogado vôlei durante um tempo e conseguiu identificar a mulher que eu tinha visto no ônibus, chegou a dizer que poderia apresentá-la a mim. Mas eu fiquei mais interessado nas respostas dela do que na imagem que me encantou. A gente foi conversando, deu match, o santo bateu. Estamos casados desde 2013.”\n",
      "\n",
      "\n"
     ]
    }
   ],
   "source": [
    "with open('historia_amor.txt', 'r') as arquivo:\n",
    "    amor = arquivo.read()\n",
    "    print(amor)"
   ]
  },
  {
   "cell_type": "code",
   "execution_count": 16,
   "id": "f3322884",
   "metadata": {},
   "outputs": [],
   "source": [
    "with open('arquivo_teste.txt', 'w', encoding='utf-8') as arquivo:\n",
    "    arquivo.write('Essa é uma linha que eu escrevi usando Python\\n')\n",
    "    arquivo.write('Essa é a segunda linha que eu escrevi usando Python\\n')"
   ]
  },
  {
   "cell_type": "code",
   "execution_count": 22,
   "id": "34aeac9c",
   "metadata": {},
   "outputs": [
    {
     "name": "stdout",
     "output_type": "stream",
     "text": [
      "Essa é uma linha que eu escrevi usando Python\n",
      "Essa é a segunda linha que eu escrevi usando Python\n",
      "Essa é a terceira linha que eu escrevi usando Python\n"
     ]
    }
   ],
   "source": [
    "with open('arquivo_teste.txt', 'r', encoding='utf-8') as arquivo:\n",
    "    print(arquivo.read(), end='')"
   ]
  },
  {
   "cell_type": "code",
   "execution_count": 21,
   "id": "cfc0ef50",
   "metadata": {},
   "outputs": [],
   "source": [
    "with open('arquivo_teste.txt', 'a', encoding='utf-8') as arquivo:\n",
    "     arquivo.write('Essa é a terceira linha que eu escrevi usando Python\\n')"
   ]
  },
  {
   "cell_type": "code",
   "execution_count": null,
   "id": "23386e75",
   "metadata": {},
   "outputs": [],
   "source": []
  }
 ],
 "metadata": {
  "kernelspec": {
   "display_name": "Python 3 (ipykernel)",
   "language": "python",
   "name": "python3"
  },
  "language_info": {
   "codemirror_mode": {
    "name": "ipython",
    "version": 3
   },
   "file_extension": ".py",
   "mimetype": "text/x-python",
   "name": "python",
   "nbconvert_exporter": "python",
   "pygments_lexer": "ipython3",
   "version": "3.9.12"
  }
 },
 "nbformat": 4,
 "nbformat_minor": 5
}
