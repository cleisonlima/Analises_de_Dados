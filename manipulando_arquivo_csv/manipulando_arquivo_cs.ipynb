{
 "cells": [
  {
   "cell_type": "code",
   "execution_count": 29,
   "id": "02fe270f",
   "metadata": {},
   "outputs": [],
   "source": [
    "import csv\n"
   ]
  },
  {
   "cell_type": "code",
   "execution_count": 30,
   "id": "e268f5e4",
   "metadata": {},
   "outputs": [
    {
     "name": "stdout",
     "output_type": "stream",
     "text": [
      "['2', '2', 'casado', 'ensino fundamental', '1', '4.56', '32', '10', 'capital']\n",
      "['3', '3', 'casado', 'ensino fundamental', '2', '5.25', '36', '5', 'capital']\n",
      "['4', '4', 'solteiro', 'ensino medio', 'NA', '5.73', '20', '10', 'outra']\n",
      "['5', '5', 'solteiro', 'ensino fundamental', 'NA', '6.26', '40', '7', 'outra']\n",
      "['6', '6', 'casado', 'ensino fundamental', '0', '6.66', '28', '0', 'interior']\n",
      "['7', '7', 'solteiro', 'ensino fundamental', 'NA', '6.86', '41', '0', 'interior']\n",
      "['8', '8', 'solteiro', 'ensino fundamental', 'NA', '7.39', '43', '4', 'capital']\n",
      "['9', '9', 'casado', 'ensino medio', '1', '7.59', '34', '10', 'capital']\n",
      "['10', '10', 'solteiro', 'ensino medio', 'NA', '7.44', '23', '6', 'outra']\n",
      "['11', '11', 'casado', 'ensino medio', '2', '8.12', '33', '6', 'interior']\n",
      "['12', '12', 'solteiro', 'ensino fundamental', 'NA', '8.46', '27', '11', 'capital']\n",
      "['13', '13', 'solteiro', 'ensino medio', 'NA', '8.74', '37', '5', 'outra']\n",
      "['14', '14', 'casado', 'ensino fundamental', '3', '8.95', '44', '2', 'outra']\n",
      "['15', '15', 'casado', 'ensino medio', '0', '9.13', '30', '5', 'interior']\n",
      "['16', '16', 'solteiro', 'ensino medio', 'NA', '9.35', '38', '8', 'outra']\n",
      "['17', '17', 'casado', 'ensino medio', '1', '9.77', '31', '7', 'capital']\n",
      "['18', '18', 'casado', 'ensino fundamental', '2', '9.8', '39', '7', 'outra']\n",
      "['19', '19', 'solteiro', 'superior', 'NA', '10.53', '25', '8', 'interior']\n",
      "['20', '20', 'solteiro', 'ensino medio', 'NA', '10.76', '37', '4', 'interior']\n",
      "['21', '21', 'casado', 'ensino medio', '1', '11.06', '30', '9', 'outra']\n",
      "['22', '22', 'solteiro', 'ensino medio', 'NA', '11.59', '34', '2', 'capital']\n",
      "['23', '23', 'solteiro', 'ensino fundamental', 'NA', '12', '41', '0', 'outra']\n",
      "['24', '24', 'casado', 'superior', '0', '12.79', '26', '1', 'outra']\n",
      "['25', '25', 'casado', 'ensino medio', '2', '13.23', '32', '5', 'interior']\n",
      "['26', '26', 'casado', 'ensino medio', '2', '13.6', '35', '0', 'outra']\n",
      "['27', '27', 'solteiro', 'ensino fundamental', 'NA', '13.85', '46', '7', 'outra']\n",
      "['28', '28', 'casado', 'ensino medio', '0', '14.69', '29', '8', 'interior']\n",
      "['29', '29', 'casado', 'ensino medio', '5', '14.71', '40', '6', 'interior']\n",
      "['30', '30', 'casado', 'ensino medio', '2', '15.99', '35', '10', 'capital']\n",
      "['31', '31', 'solteiro', 'superior', 'NA', '16.22', '31', '5', 'outra']\n",
      "['32', '32', 'casado', 'ensino medio', '1', '16.61', '36', '4', 'interior']\n",
      "['33', '33', 'casado', 'superior', '3', '17.26', '43', '7', 'capital']\n",
      "['34', '34', 'solteiro', 'superior', 'NA', '18.75', '33', '7', 'capital']\n",
      "['35', '35', 'casado', 'ensino medio', '2', '19.4', '48', '11', 'capital']\n",
      "['36', '36', 'casado', 'superior', '3', '23.3', '42', '2', 'interior']\n"
     ]
    }
   ],
   "source": [
    "with open('Usuarios.csv', 'r', encoding='utf-8') as arquivo_csv:\n",
    "    leitor = csv.reader(arquivo_csv)\n",
    "    header = next(leitor)\n",
    "    for linha in leitor:\n",
    "        if float(linha[0]) > 1:\n",
    "            print(linha)"
   ]
  },
  {
   "cell_type": "code",
   "execution_count": null,
   "id": "ef014bc7",
   "metadata": {},
   "outputs": [],
   "source": []
  },
  {
   "cell_type": "code",
   "execution_count": 31,
   "id": "732f3d9f",
   "metadata": {},
   "outputs": [
    {
     "name": "stdout",
     "output_type": "stream",
     "text": [
      "['\"\"', '\"N\"', '\"estado_civil\"', '\"grau_instrucao\"', '\"n_filhos\"', '\"salario\"', '\"idade_anos\"', '\"idade_meses\"', '\"reg_procedencia\"']\n",
      "['\"1\"', '1', '\"solteiro\"', '\"ensino fundamental\"', 'NA', '4', '26', '3', '\"interior\"']\n",
      "['\"2\"', '2', '\"casado\"', '\"ensino fundamental\"', '1', '4.56', '32', '10', '\"capital\"']\n",
      "['\"3\"', '3', '\"casado\"', '\"ensino fundamental\"', '2', '5.25', '36', '5', '\"capital\"']\n",
      "['\"4\"', '4', '\"solteiro\"', '\"ensino medio\"', 'NA', '5.73', '20', '10', '\"outra\"']\n",
      "['\"5\"', '5', '\"solteiro\"', '\"ensino fundamental\"', 'NA', '6.26', '40', '7', '\"outra\"']\n",
      "['\"6\"', '6', '\"casado\"', '\"ensino fundamental\"', '0', '6.66', '28', '0', '\"interior\"']\n",
      "['\"7\"', '7', '\"solteiro\"', '\"ensino fundamental\"', 'NA', '6.86', '41', '0', '\"interior\"']\n",
      "['\"8\"', '8', '\"solteiro\"', '\"ensino fundamental\"', 'NA', '7.39', '43', '4', '\"capital\"']\n",
      "['\"9\"', '9', '\"casado\"', '\"ensino medio\"', '1', '7.59', '34', '10', '\"capital\"']\n",
      "['\"10\"', '10', '\"solteiro\"', '\"ensino medio\"', 'NA', '7.44', '23', '6', '\"outra\"']\n",
      "['\"11\"', '11', '\"casado\"', '\"ensino medio\"', '2', '8.12', '33', '6', '\"interior\"']\n",
      "['\"12\"', '12', '\"solteiro\"', '\"ensino fundamental\"', 'NA', '8.46', '27', '11', '\"capital\"']\n",
      "['\"13\"', '13', '\"solteiro\"', '\"ensino medio\"', 'NA', '8.74', '37', '5', '\"outra\"']\n",
      "['\"14\"', '14', '\"casado\"', '\"ensino fundamental\"', '3', '8.95', '44', '2', '\"outra\"']\n",
      "['\"15\"', '15', '\"casado\"', '\"ensino medio\"', '0', '9.13', '30', '5', '\"interior\"']\n",
      "['\"16\"', '16', '\"solteiro\"', '\"ensino medio\"', 'NA', '9.35', '38', '8', '\"outra\"']\n",
      "['\"17\"', '17', '\"casado\"', '\"ensino medio\"', '1', '9.77', '31', '7', '\"capital\"']\n",
      "['\"18\"', '18', '\"casado\"', '\"ensino fundamental\"', '2', '9.8', '39', '7', '\"outra\"']\n",
      "['\"19\"', '19', '\"solteiro\"', '\"superior\"', 'NA', '10.53', '25', '8', '\"interior\"']\n",
      "['\"20\"', '20', '\"solteiro\"', '\"ensino medio\"', 'NA', '10.76', '37', '4', '\"interior\"']\n",
      "['\"21\"', '21', '\"casado\"', '\"ensino medio\"', '1', '11.06', '30', '9', '\"outra\"']\n",
      "['\"22\"', '22', '\"solteiro\"', '\"ensino medio\"', 'NA', '11.59', '34', '2', '\"capital\"']\n",
      "['\"23\"', '23', '\"solteiro\"', '\"ensino fundamental\"', 'NA', '12', '41', '0', '\"outra\"']\n",
      "['\"24\"', '24', '\"casado\"', '\"superior\"', '0', '12.79', '26', '1', '\"outra\"']\n",
      "['\"25\"', '25', '\"casado\"', '\"ensino medio\"', '2', '13.23', '32', '5', '\"interior\"']\n",
      "['\"26\"', '26', '\"casado\"', '\"ensino medio\"', '2', '13.6', '35', '0', '\"outra\"']\n",
      "['\"27\"', '27', '\"solteiro\"', '\"ensino fundamental\"', 'NA', '13.85', '46', '7', '\"outra\"']\n",
      "['\"28\"', '28', '\"casado\"', '\"ensino medio\"', '0', '14.69', '29', '8', '\"interior\"']\n",
      "['\"29\"', '29', '\"casado\"', '\"ensino medio\"', '5', '14.71', '40', '6', '\"interior\"']\n",
      "['\"30\"', '30', '\"casado\"', '\"ensino medio\"', '2', '15.99', '35', '10', '\"capital\"']\n",
      "['\"31\"', '31', '\"solteiro\"', '\"superior\"', 'NA', '16.22', '31', '5', '\"outra\"']\n",
      "['\"32\"', '32', '\"casado\"', '\"ensino medio\"', '1', '16.61', '36', '4', '\"interior\"']\n",
      "['\"33\"', '33', '\"casado\"', '\"superior\"', '3', '17.26', '43', '7', '\"capital\"']\n",
      "['\"34\"', '34', '\"solteiro\"', '\"superior\"', 'NA', '18.75', '33', '7', '\"capital\"']\n",
      "['\"35\"', '35', '\"casado\"', '\"ensino medio\"', '2', '19.4', '48', '11', '\"capital\"']\n",
      "['\"36\"', '36', '\"casado\"', '\"superior\"', '3', '23.3', '42', '2', '\"interior\"']\n",
      "['']\n"
     ]
    }
   ],
   "source": [
    "with open('Usuarios.csv', 'r') as csv_file:\n",
    "    linhas = csv_file.read()\n",
    "    linhas = linhas.split('\\n')\n",
    "    for linha in linhas:\n",
    "        linha = linha.split(',')\n",
    "        print(linha)"
   ]
  },
  {
   "cell_type": "code",
   "execution_count": 32,
   "id": "9964a97a",
   "metadata": {},
   "outputs": [],
   "source": [
    "with open('users.csv', 'w', encoding='utf-8', newline='') as arquivo_users:\n",
    "    escritor = csv.writer(arquivo_users)\n",
    "    escritor.writerow(['nome', 'sobrenome', 'email', 'genero'])\n",
    "    escritor.writerow(['Pietro', 'Ribeiro', 'pietro@gmail.com', 'Masculino'])"
   ]
  },
  {
   "cell_type": "code",
   "execution_count": 35,
   "id": "b8e46ef8",
   "metadata": {},
   "outputs": [
    {
     "name": "stdout",
     "output_type": "stream",
     "text": [
      "O que deseja fazer?\n",
      "1 - Cadastrar\n",
      "0 - Sair\n",
      "1\n",
      "Quald seu nome?Cleison Lima\n",
      "Qual seu sobrenome:l\n",
      "O que deseja fazer?\n",
      "1 - Cadastrar\n",
      "0 - Sair\n",
      "0\n",
      "[['Cleison Lima', 'l']]\n",
      "['nome', 'sobrenome']\n",
      "['Cleison Lima', 'l']\n"
     ]
    }
   ],
   "source": [
    "header = ['nome', 'sobrenome']\n",
    "dados = []\n",
    "opt = input('O que deseja fazer?\\n1 - Cadastrar\\n0 - Sair\\n')\n",
    "while opt != '0':\n",
    "    nome = input(\"Quald seu nome?\")\n",
    "    sobrenome = input(\"Qual seu sobrenome:\")\n",
    "    dados.append([nome, sobrenome])\n",
    "    opt = input(\"O que deseja fazer?\\n1 - Cadastrar\\n0 - Sair\\n\")\n",
    "    \n",
    "    print(dados)\n",
    "    \n",
    "with open('users.csv', 'w', newline='') as arquivo_csv:\n",
    "        writer = csv.writer(arquivo_csv)\n",
    "        writer.writerow(header)\n",
    "        writer.writerows(dados)\n",
    "        \n",
    "with open('users.csv', 'r') as csv_file:\n",
    "    csv_reader = csv.reader(csv_file, delimiter=',')\n",
    "    for row in csv_reader:\n",
    "        print(row)"
   ]
  },
  {
   "cell_type": "code",
   "execution_count": null,
   "id": "cfd907cd",
   "metadata": {},
   "outputs": [],
   "source": []
  }
 ],
 "metadata": {
  "kernelspec": {
   "display_name": "Python 3 (ipykernel)",
   "language": "python",
   "name": "python3"
  },
  "language_info": {
   "codemirror_mode": {
    "name": "ipython",
    "version": 3
   },
   "file_extension": ".py",
   "mimetype": "text/x-python",
   "name": "python",
   "nbconvert_exporter": "python",
   "pygments_lexer": "ipython3",
   "version": "3.9.12"
  }
 },
 "nbformat": 4,
 "nbformat_minor": 5
}
